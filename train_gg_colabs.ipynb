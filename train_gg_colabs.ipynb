{
 "cells": [
  {
   "cell_type": "code",
   "execution_count": null,
   "id": "36a56e7e-f931-4690-a3e7-8f7b51afcde4",
   "metadata": {},
   "outputs": [],
   "source": [
    "!git clone https://github.com/ngkhiem97/cv-face-mask-detection.git"
   ]
  },
  {
   "cell_type": "code",
   "execution_count": null,
   "id": "fd6b1dcd-2082-4942-b658-d451084b25c0",
   "metadata": {},
   "outputs": [],
   "source": [
    "%cd cv-face-mask-detection\n",
    "!gdown --id 1QspxOJMDf_rAWVV7AU_Nc0rjo1_EPEDW\n",
    "!mv FaceMaskDataset.zip dataset\n",
    "!unzip dataset/FaceMaskDataset.zip -d dataset/FaceMaskDataset/"
   ]
  },
  {
   "cell_type": "code",
   "execution_count": null,
   "id": "7dbccd48-cf2b-4eff-aac0-8b60b5e2436a",
   "metadata": {},
   "outputs": [],
   "source": [
    "import dataset.processing as processing\n",
    "\n",
    "%cd dataset\n",
    "processing.main()"
   ]
  },
  {
   "cell_type": "code",
   "execution_count": null,
   "id": "621246e4-52f8-43f8-8579-c63c4c4db7ba",
   "metadata": {},
   "outputs": [],
   "source": [
    "%cd /content/cv-face-mask-detection/\n",
    "\n",
    "import train_alexnet\n",
    "import train_resnet\n",
    "import train_mobilenet\n",
    "import train_finetune"
   ]
  },
  {
   "cell_type": "code",
   "execution_count": null,
   "id": "52a2913e-e509-491a-be8e-e297bfdb815a",
   "metadata": {},
   "outputs": [],
   "source": [
    "train_alexnet.main()"
   ]
  },
  {
   "cell_type": "code",
   "execution_count": null,
   "id": "24ce4611-30ab-4eed-92f4-d24918617e3a",
   "metadata": {},
   "outputs": [],
   "source": [
    "train_resnet.main()"
   ]
  },
  {
   "cell_type": "code",
   "execution_count": null,
   "id": "a5691eda-e8bf-4040-890e-b94347b5a11b",
   "metadata": {},
   "outputs": [],
   "source": [
    "train_mobilenet.main()"
   ]
  },
  {
   "cell_type": "code",
   "execution_count": null,
   "id": "1a19e071",
   "metadata": {},
   "outputs": [],
   "source": [
    "train_finetune.main()"
   ]
  }
 ],
 "metadata": {
  "kernelspec": {
   "display_name": "Python 3",
   "language": "python",
   "name": "python3"
  },
  "language_info": {
   "codemirror_mode": {
    "name": "ipython",
    "version": 3
   },
   "file_extension": ".py",
   "mimetype": "text/x-python",
   "name": "python",
   "nbconvert_exporter": "python",
   "pygments_lexer": "ipython3",
   "version": "3.8.10"
  }
 },
 "nbformat": 4,
 "nbformat_minor": 5
}
