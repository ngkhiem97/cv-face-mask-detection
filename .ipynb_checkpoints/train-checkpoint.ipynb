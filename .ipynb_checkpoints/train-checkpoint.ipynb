{
 "cells": [
  {
   "cell_type": "code",
   "execution_count": null,
   "id": "36a56e7e-f931-4690-a3e7-8f7b51afcde4",
   "metadata": {},
   "outputs": [],
   "source": [
    "!git clone https://github.com/ngkhiem97/cv-face-mask-detection.git"
   ]
  },
  {
   "cell_type": "code",
   "execution_count": null,
   "id": "fd6b1dcd-2082-4942-b658-d451084b25c0",
   "metadata": {},
   "outputs": [],
   "source": [
    "%cd cv-face-mask-detection\n",
    "!gdown --id 1QspxOJMDf_rAWVV7AU_Nc0rjo1_EPEDW\n",
    "!mv FaceMaskDataset.zip dataset\n",
    "!unzip dataset/FaceMaskDataset.zip -d dataset/FaceMaskDataset/"
   ]
  },
  {
   "cell_type": "code",
   "execution_count": null,
   "id": "621246e4-52f8-43f8-8579-c63c4c4db7ba",
   "metadata": {},
   "outputs": [],
   "source": [
    "import train_alexnet\n",
    "import train_resnet\n",
    "import train_mobilenet"
   ]
  }
 ],
 "metadata": {
  "kernelspec": {
   "display_name": "Python 3",
   "language": "python",
   "name": "python3"
  },
  "language_info": {
   "codemirror_mode": {
    "name": "ipython",
    "version": 3
   },
   "file_extension": ".py",
   "mimetype": "text/x-python",
   "name": "python",
   "nbconvert_exporter": "python",
   "pygments_lexer": "ipython3",
   "version": "3.8.10"
  }
 },
 "nbformat": 4,
 "nbformat_minor": 5
}
